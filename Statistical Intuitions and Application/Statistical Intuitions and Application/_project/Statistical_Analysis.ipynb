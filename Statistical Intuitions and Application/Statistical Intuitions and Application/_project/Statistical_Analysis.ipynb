{
 "cells": [
  {
   "cell_type": "markdown",
   "id": "13934417",
   "metadata": {
    "id": "13934417"
   },
   "source": [
    "# Statistical Intuitions and Application"
   ]
  },
  {
   "cell_type": "markdown",
   "id": "048ad5be",
   "metadata": {
    "id": "048ad5be"
   },
   "source": [
    "# A. Statistical Intuitions in Mental Health"
   ]
  },
  {
   "cell_type": "markdown",
   "id": "7579effc",
   "metadata": {
    "id": "7579effc"
   },
   "source": [
    "# **Question 1:**\n",
    "\n",
    "We are going to work with a dataset that was collected on mental health issues. In total, 824 individuals (teenagers, college students, housewives, businesses professionals, and other groups) completed the survey. Their data provides valuable insights into the prevalence, and factors associated with, mental health issues in different groups."
   ]
  },
  {
   "cell_type": "markdown",
   "id": "JYeKmfJbppiW",
   "metadata": {
    "id": "JYeKmfJbppiW"
   },
   "source": [
    "**To Begin**.\n",
    "\n",
    "Run the code below. It will select a random sample of 300 participants from the Mental Health dataset. The code will then generate a CSV file called **Name.csv**. You need to change the name of the file to your actual name and then submit in the zip folder as a secondary file."
   ]
  },
  {
   "cell_type": "code",
   "execution_count": 1,
   "id": "aYKSp5nHcO2X",
   "metadata": {
    "colab": {
     "base_uri": "https://localhost:8080/",
     "height": 330
    },
    "executionInfo": {
     "elapsed": 1515,
     "status": "ok",
     "timestamp": 1712042488876,
     "user": {
      "displayName": "Dana Saleh",
      "userId": "02242392442841554711"
     },
     "user_tz": -240
    },
    "id": "aYKSp5nHcO2X",
    "outputId": "62d295d8-c5b2-438a-e91f-51cf1a3fb0a4"
   },
   "outputs": [
    {
     "data": {
      "text/html": [
       "<div>\n",
       "<style scoped>\n",
       "    .dataframe tbody tr th:only-of-type {\n",
       "        vertical-align: middle;\n",
       "    }\n",
       "\n",
       "    .dataframe tbody tr th {\n",
       "        vertical-align: top;\n",
       "    }\n",
       "\n",
       "    .dataframe thead th {\n",
       "        text-align: right;\n",
       "    }\n",
       "</style>\n",
       "<table border=\"1\" class=\"dataframe\">\n",
       "  <thead>\n",
       "    <tr style=\"text-align: right;\">\n",
       "      <th></th>\n",
       "      <th>Unnamed: 0.1</th>\n",
       "      <th>Unnamed: 0</th>\n",
       "      <th>Age</th>\n",
       "      <th>Gender</th>\n",
       "      <th>Occupation</th>\n",
       "      <th>Days_Indoors</th>\n",
       "      <th>Growing_Stress</th>\n",
       "      <th>Quarantine_Frustrations</th>\n",
       "      <th>Changes_Habits</th>\n",
       "      <th>Mental_Health_History</th>\n",
       "      <th>Weight_Change</th>\n",
       "      <th>Mood_Swings</th>\n",
       "      <th>Coping_Struggles</th>\n",
       "      <th>Work_Interest</th>\n",
       "      <th>Social_Weakness</th>\n",
       "    </tr>\n",
       "  </thead>\n",
       "  <tbody>\n",
       "    <tr>\n",
       "      <th>0</th>\n",
       "      <td>0</td>\n",
       "      <td>167</td>\n",
       "      <td>20-25</td>\n",
       "      <td>Male</td>\n",
       "      <td>Business</td>\n",
       "      <td>31-60 days</td>\n",
       "      <td>No</td>\n",
       "      <td>Yes</td>\n",
       "      <td>Yes</td>\n",
       "      <td>Yes</td>\n",
       "      <td>No</td>\n",
       "      <td>Low</td>\n",
       "      <td>No</td>\n",
       "      <td>Yes</td>\n",
       "      <td>No</td>\n",
       "    </tr>\n",
       "    <tr>\n",
       "      <th>1</th>\n",
       "      <td>1</td>\n",
       "      <td>190</td>\n",
       "      <td>30-Above</td>\n",
       "      <td>Female</td>\n",
       "      <td>Business</td>\n",
       "      <td>Go out Every day</td>\n",
       "      <td>No</td>\n",
       "      <td>No</td>\n",
       "      <td>Yes</td>\n",
       "      <td>Yes</td>\n",
       "      <td>Yes</td>\n",
       "      <td>High</td>\n",
       "      <td>Yes</td>\n",
       "      <td>Yes</td>\n",
       "      <td>Yes</td>\n",
       "    </tr>\n",
       "    <tr>\n",
       "      <th>2</th>\n",
       "      <td>2</td>\n",
       "      <td>783</td>\n",
       "      <td>20-25</td>\n",
       "      <td>Male</td>\n",
       "      <td>Business</td>\n",
       "      <td>More than 2 months</td>\n",
       "      <td>Yes</td>\n",
       "      <td>No</td>\n",
       "      <td>Yes</td>\n",
       "      <td>Yes</td>\n",
       "      <td>Yes</td>\n",
       "      <td>Medium</td>\n",
       "      <td>No</td>\n",
       "      <td>No</td>\n",
       "      <td>No</td>\n",
       "    </tr>\n",
       "    <tr>\n",
       "      <th>3</th>\n",
       "      <td>3</td>\n",
       "      <td>595</td>\n",
       "      <td>16-20</td>\n",
       "      <td>Female</td>\n",
       "      <td>Business</td>\n",
       "      <td>15-30 days</td>\n",
       "      <td>Yes</td>\n",
       "      <td>Yes</td>\n",
       "      <td>Yes</td>\n",
       "      <td>Yes</td>\n",
       "      <td>Yes</td>\n",
       "      <td>High</td>\n",
       "      <td>No</td>\n",
       "      <td>Yes</td>\n",
       "      <td>Yes</td>\n",
       "    </tr>\n",
       "    <tr>\n",
       "      <th>4</th>\n",
       "      <td>4</td>\n",
       "      <td>629</td>\n",
       "      <td>30-Above</td>\n",
       "      <td>Male</td>\n",
       "      <td>Corporate</td>\n",
       "      <td>More than 2 months</td>\n",
       "      <td>No</td>\n",
       "      <td>No</td>\n",
       "      <td>Yes</td>\n",
       "      <td>Yes</td>\n",
       "      <td>Yes</td>\n",
       "      <td>Medium</td>\n",
       "      <td>No</td>\n",
       "      <td>Yes</td>\n",
       "      <td>Yes</td>\n",
       "    </tr>\n",
       "  </tbody>\n",
       "</table>\n",
       "</div>"
      ],
      "text/plain": [
       "   Unnamed: 0.1  Unnamed: 0       Age  Gender Occupation        Days_Indoors  \\\n",
       "0             0         167     20-25    Male   Business          31-60 days   \n",
       "1             1         190  30-Above  Female   Business    Go out Every day   \n",
       "2             2         783     20-25    Male   Business  More than 2 months   \n",
       "3             3         595     16-20  Female   Business          15-30 days   \n",
       "4             4         629  30-Above    Male  Corporate  More than 2 months   \n",
       "\n",
       "  Growing_Stress Quarantine_Frustrations Changes_Habits Mental_Health_History  \\\n",
       "0             No                     Yes            Yes                   Yes   \n",
       "1             No                      No            Yes                   Yes   \n",
       "2            Yes                      No            Yes                   Yes   \n",
       "3            Yes                     Yes            Yes                   Yes   \n",
       "4             No                      No            Yes                   Yes   \n",
       "\n",
       "  Weight_Change Mood_Swings Coping_Struggles Work_Interest Social_Weakness  \n",
       "0            No         Low               No           Yes              No  \n",
       "1           Yes        High              Yes           Yes             Yes  \n",
       "2           Yes      Medium               No            No              No  \n",
       "3           Yes        High               No           Yes             Yes  \n",
       "4           Yes      Medium               No           Yes             Yes  "
      ]
     },
     "execution_count": 1,
     "metadata": {},
     "output_type": "execute_result"
    }
   ],
   "source": [
    "# Load the following libraries so that they can be applied in the subsequent code blocks\n",
    "\n",
    "import numpy as np\n",
    "import pandas as pd\n",
    "import matplotlib.pyplot as plt\n",
    "import random\n",
    "import scipy.stats as stats\n",
    "\n",
    "# Run this code. It will create a csv file containing a random sample of 300 respondents. You will answer the questions below based on this sample.\n",
    "\n",
    "# Look at the code below. Now replace 'Name.csv' with your actual name (e.g., 'Sara.csv'). The code will generate a csv file that you need to submit in the zip folder as secondary file.\n",
    "\n",
    "try:\n",
    "    df = pd.read_csv('Ali Nasir.csv')        \n",
    "except FileNotFoundError:\n",
    "    original_data = pd.read_csv(\"https://raw.githubusercontent.com/DanaSaleh1003/IDS-103-Spring-2024/main/mental_health_finaldata_1.csv\")\n",
    "    df1=original_data.sample(300)\n",
    "    df1.to_csv('Ali Nasir.csv')                   \n",
    "    df = pd.read_csv('Ali Nasir.csv')             \n",
    "    df = pd.DataFrame(df)\n",
    "    df.to_csv('Ali Nasir.csv')                    \n",
    "\n",
    "df.head()"
   ]
  },
  {
   "cell_type": "markdown",
   "id": "uhv3cBRlwY-W",
   "metadata": {
    "id": "uhv3cBRlwY-W"
   },
   "source": [
    "Now, Run the code below to return **TWO variables** which represent different aspects of mental health that you need to focus on."
   ]
  },
  {
   "cell_type": "code",
   "execution_count": 2,
   "id": "x8j_10-22EIi",
   "metadata": {
    "id": "x8j_10-22EIi"
   },
   "outputs": [
    {
     "name": "stdout",
     "output_type": "stream",
     "text": [
      "Variable 1: Coping_Struggles\n",
      "Variable 2: Quarantine_Frustrations\n"
     ]
    }
   ],
   "source": [
    "\n",
    "# Load the following libraries so that they can be applied in the subsequent code blocks\n",
    "\n",
    "import numpy as np\n",
    "import pandas as pd\n",
    "import matplotlib.pyplot as plt\n",
    "import random\n",
    "import scipy.stats as stats\n",
    "import random\n",
    "\n",
    "column_titles = [\"Growing_Stress\"  ,\"Quarantine_Frustrations\"  ,\"Changes_Habits\" ,\"Mental_Health_History\", \"Weight_Change\" ,\"Mood_Swings\", \"Coping_Struggles\",\"Work_Interest\",\"Social_Weakness\"]\n",
    "\n",
    "# Randomly select 2 variables\n",
    "selected_columns = random.sample(column_titles, 2)\n",
    "\n",
    "\n",
    "# Print the 2 variables that were randomly selected\n",
    "variable_1, variable_2 = selected_columns\n",
    "print(\"Variable 1:\", variable_1)\n",
    "print(\"Variable 2:\", variable_2)"
   ]
  },
  {
   "cell_type": "markdown",
   "id": "XLF-3gDYdFk7",
   "metadata": {
    "id": "XLF-3gDYdFk7"
   },
   "source": [
    "\n",
    "Using the sample dataset from the CSV file you generated answer the following questions:\n",
    "\n",
    "**Question 1a**.\n",
    "Is each of these two variables independent of being **female**? Explain your reasoning. Make sure to include a two-way table for each of these two variables with gender, and show all your calculations to support your answers.\n",
    "\n",
    "**Question 1b**.\n",
    "Is there a relationship between the two variables returned by the code? Explain your reasoning. Make sure you include a two-way table, a stacked bar graph, and all your probability calculations in your answer.\n",
    "\n",
    "**Question 1c**.\n",
    "Does the existence of Variable 1 increase the likelihood of experiencing Variable 2? If so, by how much? Explain your reasoning. Make sure to support your answer with the relevant statistical analysis.\n",
    "\n",
    "**Question 1d**.\n",
    "Look back at your **answers to Questions 1a-c**. Now use what you learned to answer the following question:\n",
    "\n",
    "Imagine ZU wanted to use the insights from this research to improve its mental health support program. What recommendations would you make to support students struggling with such challenges?"
   ]
  },
  {
   "cell_type": "markdown",
   "id": "45d92e3a",
   "metadata": {
    "id": "45d92e3a"
   },
   "source": [
    "**Answer:** Add more \"markdown\" text and code cells below as needed."
   ]
  },
  {
   "cell_type": "markdown",
   "id": "790d61c3",
   "metadata": {
    "id": "oyaP8aS2hwQc"
   },
   "source": [
    "# Answer 1a"
   ]
  },
  {
   "cell_type": "markdown",
   "id": "1ad7f8f8",
   "metadata": {},
   "source": [
    "This Python code snippet utilizes the pandas library to analyze a dataset stored in a CSV file named 'Salem alrumaithi.csv'. After loading the dataset into a pandas DataFrame named 'df', it constructs two-way contingency tables to compare two variables ('variable_1' and 'variable_2') with gender. The pd.crosstab() function is employed to create these tables, which display the frequency distribution of each variable categorized by gender. The 'margins=True' parameter ensures that the tables include row and column totals, facilitating a comprehensive overview. Finally, the code prints out the constructed contingency tables along with informative headers to the console. This analysis aims to provide insights into the relationships between the specified variables and gender within the dataset."
   ]
  },
  {
   "cell_type": "code",
   "execution_count": 3,
   "id": "cbd78c20",
   "metadata": {
    "id": "38eddcef"
   },
   "outputs": [
    {
     "name": "stdout",
     "output_type": "stream",
     "text": [
      "Coping_Struggles compare with Gender :\n",
      "Gender            Female  Male  Total sum\n",
      "Coping_Struggles                         \n",
      "No                    72    73        145\n",
      "Yes                   94    61        155\n",
      "Total sum            166   134        300\n",
      "\n",
      "\n",
      "\n",
      "Quarantine_Frustrations compare with Gender:\n",
      "Gender                   Female  Male  Total sum\n",
      "Quarantine_Frustrations                         \n",
      "No                           59    41        100\n",
      "Yes                         107    93        200\n",
      "Total sum                   166   134        300\n"
     ]
    }
   ],
   "source": [
    "import numpy as np\n",
    "import pandas as pd\n",
    "import random\n",
    "\n",
    "\n",
    "# getting data\n",
    "df = pd.read_csv('Ali Nasir.csv')\n",
    "\n",
    "# 2 way table for variable1 vs Gender\n",
    "var1_gender_table = pd.crosstab(df[variable_1], df['Gender'], margins=True, margins_name='Total sum')\n",
    "\n",
    "# 2 way table for variable2 vs Gender\n",
    "var2_gender_table = pd.crosstab(df[variable_2], df['Gender'], margins=True, margins_name='Total sum')\n",
    "\n",
    "# Display contingency tables\n",
    "print(f\"{variable_1} compare with Gender :\")\n",
    "print(var1_gender_table)\n",
    "print(f\"\\n\\n\\n{variable_2} compare with Gender:\")\n",
    "print(var2_gender_table)\n"
   ]
  },
  {
   "cell_type": "markdown",
   "id": "d1b8959c",
   "metadata": {},
   "source": [
    "# Explanation"
   ]
  },
  {
   "cell_type": "markdown",
   "id": "0c593718",
   "metadata": {},
   "source": [
    "Construct Two-Way Table:\n",
    "\n",
    "Use the pandas library's crosstab function to create a table that displays the counts of each combination of categories for Variable 1 and gender.\n",
    "\n",
    "Calculate Conditional Probabilities:\n",
    "\n",
    "Compute the probability of Variable 1 being \"Yes\" given the gender separately for male and female. This involves dividing the count of \"Yes\" for each gender by the total count of that gender."
   ]
  },
  {
   "cell_type": "markdown",
   "id": "924261f8",
   "metadata": {},
   "source": [
    "# Answer 1B"
   ]
  },
  {
   "cell_type": "markdown",
   "id": "a7cbc0ce",
   "metadata": {},
   "source": [
    "This Python code segment performs analysis and visualization based on a two-way table constructed using the pandas library's pd.crosstab() function. The table compares two variables, 'variable_1' and 'variable_2', with row and column totals included. After constructing the table, the code checks if both 'No' and 'Yes' values are present in the columns of the DataFrame. If so, it proceeds to create a stacked bar plot illustrating the counts of 'No' and 'Yes' for each category of 'variable_1'. The conditional probability of 'Yes' in 'variable_2' given 'Yes' in 'variable_1' is calculated and printed, along with the overall probability of experiencing 'Yes' in 'variable_2'. These calculations provide insights into the relationship between the two variables and the likelihood of experiencing specific outcomes. Finally, if 'Yes' is not present in the columns of 'variable_2', a corresponding message is printed to indicate this absence. This code facilitates the visualization and analysis of relationships and probabilities within the dataset."
   ]
  },
  {
   "cell_type": "code",
   "execution_count": 4,
   "id": "9efd290d",
   "metadata": {},
   "outputs": [
    {
     "name": "stdout",
     "output_type": "stream",
     "text": [
      "\n",
      "Two-way Table:\n",
      "Quarantine_Frustrations   No  Yes  Total\n",
      "Coping_Struggles                        \n",
      "No                        50   95    145\n",
      "Yes                       50  105    155\n",
      "Total                    100  200    300\n"
     ]
    },
    {
     "data": {
      "image/png": "[encoded data removed]",
      "text/plain": [
       "<Figure size 640x480 with 1 Axes>"
      ]
     },
     "metadata": {},
     "output_type": "display_data"
    },
    {
     "name": "stdout",
     "output_type": "stream",
     "text": [
      "Conditional probability of Quarantine_Frustrations given Coping_Struggles: 0.6774193548387096\n",
      "Overall probability of experiencing Quarantine_Frustrations: 0.6666666666666666\n"
     ]
    }
   ],
   "source": [
    "\n",
    "# Create a two-way table\n",
    "two_way_table = pd.crosstab(index=df[variable_1], columns=df[variable_2], margins=True, margins_name='Total')\n",
    "print(\"\\nTwo-way Table:\")\n",
    "print(two_way_table)\n",
    "\n",
    "# Check if 'No' and 'Yes' are present in the DataFrame columns\n",
    "if 'No' in two_way_table.columns and 'Yes' in two_way_table.columns:\n",
    "    labels = df[variable_1].unique()\n",
    "    values_no = [two_way_table.loc[label, 'No'] for label in labels]\n",
    "    values_yes = [two_way_table.loc[label, 'Yes'] for label in labels]\n",
    "\n",
    "    x = np.arange(len(labels))\n",
    "    width = 0.35\n",
    "\n",
    "    fig, ax = plt.subplots()\n",
    "    rects1 = ax.bar(x, values_no, width, label='No')\n",
    "    rects2 = ax.bar(x, values_yes, width, label='Yes', bottom=values_no)\n",
    "\n",
    "    ax.set_ylabel('Count')\n",
    "    ax.set_title(variable_1 + ' by ' + variable_2)\n",
    "    ax.set_xticks(x)\n",
    "    ax.set_xticklabels(labels)\n",
    "    ax.legend()\n",
    "\n",
    "    plt.show()\n",
    "else:\n",
    "    print(\"'No' and/or 'Yes' are not found.\")\n",
    "\n",
    "\n",
    "# Check if 'Yes' is present in the DataFrame columns\n",
    "if 'Yes' in df[variable_2].unique():\n",
    "    # Contingency table for variable1 vs variable2\n",
    "    work_coping_table = pd.crosstab(df[variable_1], df[variable_2], margins=True, margins_name='Total SUM')\n",
    "\n",
    "    # Conditional probability of Coping Struggles given variable1\n",
    "    prob_sec_given_first = work_coping_table.loc['Yes', 'Yes'] / work_coping_table.loc['Yes', 'Total SUM']\n",
    "\n",
    "    # Overall probability of experiencing variable2\n",
    "    prob_second = df[variable_2].value_counts(normalize=True)['Yes']\n",
    "\n",
    "    # Result\n",
    "    print(f\"Conditional probability of {variable_2} given {variable_1}:\", prob_sec_given_first)\n",
    "    print(f\"Overall probability of experiencing {variable_2}:\", prob_second)\n",
    "else:\n",
    "    print(\"'Yes' is not found.\")\n"
   ]
  },
  {
   "cell_type": "markdown",
   "id": "a5bb1782",
   "metadata": {},
   "source": [
    "# Explanation "
   ]
  },
  {
   "cell_type": "markdown",
   "id": "391d87b9",
   "metadata": {},
   "source": [
    "Construct Two-Way Table for Joint Distribution: \n",
    "\n",
    "Using the crosstab function again, i have created a table showing the counts of each combination of categories for Variable 1 and Variable 2.\n",
    "\n",
    "Calculate Probabilities: \n",
    "\n",
    "i have computed the probabilities of each combination of categories occurring. For instance, the probability of both Variable 1 and Variable 2 being \"Yes\", the probability of Variable 1 being \"No\" and Variable 2 being \"Yes\", and so on.\n",
    "\n",
    "\n",
    "Create Stacked Bar Graph: \n",
    "\n",
    "To visually represent the relationship between the two variables, i have created a stacked bar graph. Each bar represented a level of Variable 1, and the segments within each bar will represent the proportions of Variable 2 at each level of Variable 1."
   ]
  },
  {
   "cell_type": "markdown",
   "id": "581cf679",
   "metadata": {},
   "source": [
    "# Answer 1c"
   ]
  },
  {
   "cell_type": "markdown",
   "id": "dd4bf6a0",
   "metadata": {},
   "source": [
    "This Python code segment checks for the presence of 'Yes' among the unique values of a specified DataFrame column, assumed to be named 'variable_2'. If 'Yes' is found among the unique values, the code proceeds to create a contingency table for 'variable_1' versus 'variable_2' using the pd.crosstab() function from the pandas library. From this contingency table, the conditional probability of experiencing 'Yes' in 'variable_2' given 'Yes' in 'variable_1' is calculated and stored in the variable 'prob_coping_given_var1'. Additionally, the overall probability of experiencing 'Yes' in 'variable_2' is computed and stored in the variable 'prob_var2' by normalizing the value counts of 'Yes' in 'variable_2'. Finally, the conditional probability and overall probability are printed to the console, providing insights into the relationship between the two variables and the likelihood of experiencing specific outcomes. If 'Yes' is not present in the unique values of 'variable_2', a corresponding message is printed to indicate this absence. This code facilitates the analysis of relationships and probabilities within the dataset."
   ]
  },
  {
   "cell_type": "code",
   "execution_count": 5,
   "id": "3f192fae",
   "metadata": {},
   "outputs": [
    {
     "name": "stdout",
     "output_type": "stream",
     "text": [
      "Conditional probability of Quarantine_Frustrations given Coping_Struggles: 0.6774193548387096\n",
      "Overall probability of experiencing Quarantine_Frustrations: 0.6666666666666666\n"
     ]
    }
   ],
   "source": [
    "# Check for the presence of 'Yes' in the unique values of the DataFrame column\n",
    "if 'Yes' in df[variable_2].unique():\n",
    "    # Create a contingency table for variable1 versus variable2\n",
    "    coping_table = pd.crosstab(df[variable_1], df[variable_2], margins=True, margins_name='Total')\n",
    "\n",
    "    # Calculate the conditional probability of Coping Struggles given variable1\n",
    "    prob_coping_given_var1 = coping_table.loc['Yes', 'Yes'] / coping_table.loc['Yes', 'Total']\n",
    "\n",
    "    # Calculate the overall probability of experiencing variable2\n",
    "    prob_var2 = df[variable_2].value_counts(normalize=True)['Yes']\n",
    "\n",
    "    # Display the results\n",
    "    print(f\"Conditional probability of {variable_2} given {variable_1}:\", prob_coping_given_var1)\n",
    "    print(f\"Overall probability of experiencing {variable_2}:\", prob_var2)\n",
    "else:\n",
    "    print(\"'Yes' does not appear in any of the DataFrame columns.\")\n"
   ]
  },
  {
   "cell_type": "markdown",
   "id": "c3764ee9",
   "metadata": {},
   "source": [
    "# Explanation"
   ]
  },
  {
   "cell_type": "markdown",
   "id": "ba07a01d",
   "metadata": {},
   "source": [
    "Calculate Conditional Probabilities:\n",
    "\n",
    "You'll compute the probability of Variable 2 being \"Yes\" given that Variable 1 is \"Yes\" and \"No\" separately.\n",
    "\n",
    "Compare Probabilities: \n",
    "\n",
    "Next, you'll compare these conditional probabilities to see if the presence of Variable 1 affects the likelihood of experiencing Variable 2. If the probability of Variable 2 being \"Yes\" is higher when Variable 1 is \"Yes\" compared to when Variable 1 is \"No\", it suggests a potential relationship."
   ]
  },
  {
   "cell_type": "markdown",
   "id": "dc5b2a2e",
   "metadata": {},
   "source": [
    "# Answer 1d"
   ]
  },
  {
   "cell_type": "markdown",
   "id": "7dc0dec0",
   "metadata": {},
   "source": [
    "Raise Awareness: Utilize awareness campaigns and educational workshops to diminish stigma surrounding mental health issues and encourage individuals to seek help when needed.\n",
    "\n",
    "Enhance Support Services: Enhance the accessibility and availability of counseling services by incorporating online options and crisis intervention strategies.\n",
    "\n",
    "Empower Peer Networks: Establish peer support programs and train student leaders to offer assistance and guide individuals towards appropriate resources.\n",
    "\n",
    "Encourage Healthy Coping Mechanisms: Provide opportunities for stress reduction activities and promote the adoption of healthy lifestyle habits among students.\n",
    "\n",
    "Integrate Mental Wellness Education: Embed mental health education within academic courses to foster a better understanding of mental health issues and coping strategies.\n",
    "\n",
    "Facilitate Effective Communication Channels: Establish clear and open channels for students to express concerns and access support services easily.\n",
    "\n",
    "Forge Partnerships with External Entities: Collaborate with local mental health organizations to expand the range of support services available to students.\n",
    "\n",
    "Regular Evaluation: Continuously assess program effectiveness through surveys and assessments to gather feedback and make necessary improvements."
   ]
  },
  {
   "cell_type": "markdown",
   "id": "df3517a6",
   "metadata": {
    "id": "df3517a6"
   },
   "source": [
    "# B. Statistical Intuition in Store Ratings"
   ]
  },
  {
   "cell_type": "markdown",
   "id": "dbbubvNGUHtp",
   "metadata": {
    "id": "dbbubvNGUHtp"
   },
   "source": [
    "# **Question 2:**\n",
    "\n",
    "\n",
    "Imagine you are the manager of an Electronic store in Dubai mall. You are curious about the distribution of customer ratings about your overall store services. So you ask random customers who visit the store to complete a short survey, recording variables such as their age group, and overall experience rating.\n",
    "\n",
    "**To Begin**\n",
    "\n",
    "Run the code below. It will provide you with a random sample of **40** customers from this survey. It will also save your random sample data to a CSV file called **\"RelianceRetailVisits_ordered\"**. Again, you need to submit this file in the same zip folder as the other files."
   ]
  },
  {
   "cell_type": "code",
   "execution_count": 6,
   "id": "nkAOSjevTIDd",
   "metadata": {
    "id": "nkAOSjevTIDd"
   },
   "outputs": [],
   "source": [
    "# Load the following libraries so that they can be applied in the subsequent code blocks\n",
    "\n",
    "import numpy as np\n",
    "import pandas as pd\n",
    "import matplotlib.pyplot as plt\n",
    "import random\n",
    "import scipy.stats as stats\n",
    "\n",
    "try:\n",
    "    df = pd.read_csv('RelianceRetailVisits.csv')\n",
    "except FileNotFoundError:\n",
    "    original_data = pd.read_csv(\"https://raw.githubusercontent.com/DanaSaleh1003/IDS-103-Spring-2024/main/RelianceRetailVisits-1.csv\")\n",
    "\n",
    "    # Randomly sample 40 rows from the original dataset\n",
    "    df = original_data.sample(n=40, random_state=42)\n",
    "\n",
    "# Fill missing values for '46 To 60 years' age group with default values or remove NaN rows\n",
    "df.fillna({'Age Group': '46 To 60 years'}, inplace=True)\n",
    "\n",
    "# Sort the DataFrame based on the 'Age Group' column in the desired order\n",
    "desired_order = ['26  To  35 years', '16  To  25 years', '36  To  45 years', '46  To  60 years']  # Corrected unique values\n",
    "df['Age Group'] = pd.Categorical(df['Age Group'], categories=desired_order, ordered=True)\n",
    "df.sort_values(by='Age Group', inplace=True)\n",
    "\n",
    "# Save the sorted DataFrame to a new CSV file\n",
    "df.to_csv('RelianceRetailVisits_ordered.csv', index=False)\n",
    "\n",
    "df.head(100);\n"
   ]
  },
  {
   "cell_type": "markdown",
   "id": "dPZBs9LTXkch",
   "metadata": {
    "id": "dPZBs9LTXkch"
   },
   "source": [
    "Use the random sample of data from the csv file you generated to answer the following questions:\n",
    "\n",
    "**Question 2a.** Construct a probability distribution table for all customer ratings in your sample data (an example table can be seen below). Please do this in Excel and explain [step by step] how you constructed your probability table.\n"
   ]
  },
  {
   "cell_type": "markdown",
   "id": "qEoicx4DfVaM",
   "metadata": {
    "id": "qEoicx4DfVaM"
   },
   "source": [
    "![Screenshot 2024-02-25 at 6.38.29 PM.png](data:image/png;base64,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)"
   ]
  },
  {
   "cell_type": "markdown",
   "id": "4dr7NxQJoQ4y",
   "metadata": {
    "id": "4dr7NxQJoQ4y"
   },
   "source": [
    "**Question 2b.**  What is the probability that a randomly selected customer will have a rating of AT MOST 3?\n",
    "\n",
    "**Question 2c.** Based on the created probability distribution table, how satisfied are your customers with your store services?\n",
    "\n",
    "**Question 2d.** Find the **expected rating** of your store. Show your work and interpret your answer in context.\n",
    "\n",
    "\n"
   ]
  },
  {
   "cell_type": "markdown",
   "id": "8aR8m22HZn-h",
   "metadata": {
    "id": "8aR8m22HZn-h"
   },
   "source": [
    "Run the code below. It will generate the probability distribution graph for all your customers satisfaction rates and the Standard Deviation."
   ]
  },
  {
   "cell_type": "code",
   "execution_count": 7,
   "id": "a7Rk7EcWWZr9",
   "metadata": {
    "id": "a7Rk7EcWWZr9"
   },
   "outputs": [
    {
     "data": {
      "image/png": "[encoded data removed]",
      "text/plain": [
       "<Figure size 800x600 with 1 Axes>"
      ]
     },
     "metadata": {},
     "output_type": "display_data"
    },
    {
     "name": "stdout",
     "output_type": "stream",
     "text": [
      "Standard Deviation (STD) of Customer Rating: 1.11\n",
      "\n"
     ]
    }
   ],
   "source": [
    "import numpy as np\n",
    "import pandas as pd\n",
    "import matplotlib.pyplot as plt\n",
    "import scipy.stats as stats\n",
    "from tabulate import tabulate\n",
    "\n",
    "# Load data\n",
    "try:\n",
    "    df = pd.read_csv('RelianceRetailVisits.csv')\n",
    "except FileNotFoundError:\n",
    "    original_data = pd.read_csv(\"https://raw.githubusercontent.com/DanaSaleh1003/IDS-103-Spring-2024/main/RelianceRetailVisits-1.csv\")\n",
    "    df = original_data.sample(n=40, random_state=42)\n",
    "\n",
    "# Fill missing values for '46 To 60 years' age group with default values or remove NaN rows\n",
    "df.fillna({'Age Group': '46 To 60 years'}, inplace=True)\n",
    "\n",
    "# Sort the DataFrame based on the 'Age Group' column in the desired order\n",
    "desired_order = ['26  To  35 years', '16  To  25 years', '36  To  45 years', '46  To  60 years']\n",
    "df['Age Group'] = pd.Categorical(df['Age Group'], categories=desired_order, ordered=True)\n",
    "df.sort_values(by='Age Group', inplace=True)\n",
    "\n",
    "# Save the sorted DataFrame to a new CSV file\n",
    "df.to_csv('RelianceRetailVisits_ordered.csv', index=False)\n",
    "\n",
    "# Probability distribution graph for customer rating\n",
    "plt.figure(figsize=(8, 6))\n",
    "rating_counts = df['OverallExperienceRatin'].value_counts(normalize=True).sort_index()\n",
    "plt.bar(rating_counts.index, rating_counts, alpha=0.7)\n",
    "plt.title('Probability Distribution of Customer Rating')\n",
    "plt.xlabel('Overall Experience Rating')\n",
    "plt.ylabel('Probability')\n",
    "plt.xticks(range(1, 6))\n",
    "plt.grid(axis='y', linestyle='--', alpha=0.7)\n",
    "plt.show()\n",
    "\n",
    "# Expected value and STD for rating for all customers\n",
    "mean_rating = df['OverallExperienceRatin'].mean()\n",
    "std_rating = df['OverallExperienceRatin'].std()\n",
    "print(f\"Standard Deviation (STD) of Customer Rating: {std_rating:.2f}\")\n",
    "print()\n",
    "\n",
    "\n"
   ]
  },
  {
   "cell_type": "markdown",
   "id": "P5b1t2N8Z1ds",
   "metadata": {
    "id": "P5b1t2N8Z1ds"
   },
   "source": [
    "**Question 2e.** Interpret the **Standard Deviation** in context. What rating is considered **unusual**? Explain.\n",
    "\n"
   ]
  },
  {
   "cell_type": "markdown",
   "id": "RCniOavqBv_L",
   "metadata": {
    "id": "RCniOavqBv_L"
   },
   "source": [
    "**Run** the code below. It will generate the probability distribution graphs for **each** of the age groups along with their discrete probability distribution tables, the Expectd values, and the Standard Deviation values."
   ]
  },
  {
   "cell_type": "code",
   "execution_count": 8,
   "id": "nIfR0MykDohU",
   "metadata": {
    "id": "nIfR0MykDohU"
   },
   "outputs": [
    {
     "name": "stderr",
     "output_type": "stream",
     "text": [
      "/tmp/ipykernel_51969/1605697025.py:23: UserWarning: FixedFormatter should only be used together with FixedLocator\n",
      "  axs[i].set_yticklabels(['{:,.0%}'.format(x) for x in axs[i].get_yticks()])  # Format y-axis tick labels as percentages\n"
     ]
    },
    {
     "data": {
      "image/png": "[encoded data removed]",
      "text/plain": [
       "<Figure size 2000x600 with 4 Axes>"
      ]
     },
     "metadata": {},
     "output_type": "display_data"
    }
   ],
   "source": [
    "import numpy as np\n",
    "import pandas as pd\n",
    "import matplotlib.pyplot as plt\n",
    "import scipy.stats as stats\n",
    "\n",
    "# Assuming your data is stored in a CSV file named 'data.csv'\n",
    "data = pd.read_csv('RelianceRetailVisits_ordered.csv')\n",
    "\n",
    "# Define age groups including the new one\n",
    "age_groups = ['16  To  25 years', '26  To  35 years', '36  To  45 years', '46  To  60 years']  # Added new age group\n",
    "\n",
    "# Plot separate discrete probability distributions for each age group\n",
    "fig, axs = plt.subplots(1, 4, figsize=(20, 6), sharex=True, gridspec_kw={'hspace': 0.5})  # Adjusted size and spacing\n",
    "\n",
    "for i, age_group in enumerate(age_groups):\n",
    "    age_data = data[data['Age Group'] == age_group]\n",
    "    rating_counts = age_data['OverallExperienceRatin'].value_counts(normalize=True).sort_index()\n",
    "    bars = axs[i].bar(rating_counts.index, rating_counts, alpha=0.7)\n",
    "    axs[i].set_title(f'{age_group}\\nMean: {age_data[\"OverallExperienceRatin\"].mean():.2f} | SD: {age_data[\"OverallExperienceRatin\"].std():.2f}')  # Age group, Mean, and SD\n",
    "    axs[i].set_xlabel('Overall Experience Rating')\n",
    "    axs[i].set_ylabel('Probability (%)')  # Set y-axis label to Probability (%)\n",
    "    axs[i].set_xticks(range(1, 6))  # Set x-axis ticks from 1 to 5\n",
    "    axs[i].set_yticklabels(['{:,.0%}'.format(x) for x in axs[i].get_yticks()])  # Format y-axis tick labels as percentages\n",
    "\n",
    "    # Display percentages above each bar\n",
    "    for bar in bars:\n",
    "        height = bar.get_height()\n",
    "        rating = bar.get_x() + bar.get_width() / 2\n",
    "        if height == 0:  # If the height is 0%, display '0%'\n",
    "            axs[i].text(rating, height, '0%', ha='center', va='bottom', fontsize=8)\n",
    "        else:\n",
    "            axs[i].text(rating, height, f'{height:.0%}', ha='center', va='bottom', fontsize=8)\n",
    "\n",
    "    axs[i].grid(axis='y', linestyle='--', alpha=0.7)\n",
    "\n",
    "# Hide the warning about FixedFormatter\n",
    "import warnings\n",
    "warnings.filterwarnings(\"ignore\", category=UserWarning)\n",
    "\n",
    "plt.tight_layout()\n",
    "plt.show()\n"
   ]
  },
  {
   "cell_type": "markdown",
   "id": "FxEN14vf7Rw9",
   "metadata": {
    "id": "FxEN14vf7Rw9"
   },
   "source": [
    "**Question 2f.** Identify any trends or differences in customer satisfaction levels (and variability) among the different age groups.\n",
    "\n",
    "Now, using these insights, what concrete improvements would you make to your store to ensure that **all** customers are satisfied with your services?"
   ]
  },
  {
   "cell_type": "markdown",
   "id": "aFpzKkhING_3",
   "metadata": {
    "id": "aFpzKkhING_3"
   },
   "source": [
    "**Answer:** Add more \"markdown\" text cells below as needed."
   ]
  },
  {
   "cell_type": "markdown",
   "id": "b7288f98",
   "metadata": {
    "id": "gs4SiA28et-9"
   },
   "source": [
    "# Answer 2a"
   ]
  },
  {
   "cell_type": "markdown",
   "id": "95308cce",
   "metadata": {},
   "source": [
    "This Python code segment utilizes the pandas library to analyze a dataset stored in a CSV file named 'RelianceRetailVisits_ordered.csv'. After loading the dataset into a pandas DataFrame named 'df', it calculates the frequency of each rating in the 'OverallExperienceRatin' column using the value_counts() function. Next, the code computes the probability of each rating by dividing the frequency of each rating by the total number of ratings in the dataset. These calculations are stored in the variables 'rating_counts' and 'probability', respectively.\n",
    "\n",
    "Subsequently, a probability distribution table is constructed using the pd.DataFrame() function, incorporating the rating counts, corresponding probabilities, and rating values. The constructed table is then printed to the console, providing a comprehensive overview of the frequency and probability distribution of ratings in the dataset. This analysis facilitates understanding the distribution of overall experience ratings in the dataset and enables further insights into customer experiences at Reliance Retail visits."
   ]
  },
  {
   "cell_type": "code",
   "execution_count": 9,
   "id": "_OFcTPIfscWG",
   "metadata": {
    "id": "_OFcTPIfscWG",
    "scrolled": true
   },
   "outputs": [
    {
     "name": "stdout",
     "output_type": "stream",
     "text": [
      "                        Rating  Frequency  Probability\n",
      "OverallExperienceRatin                                \n",
      "4                            4         17        0.425\n",
      "5                            5         12        0.300\n",
      "2                            2          6        0.150\n",
      "3                            3          4        0.100\n",
      "1                            1          1        0.025\n"
     ]
    }
   ],
   "source": [
    "import pandas as pd\n",
    "\n",
    "# Load data\n",
    "df = pd.read_csv('RelianceRetailVisits_ordered.csv')\n",
    "\n",
    "# Calculate frequency of each rating\n",
    "rating_counts = df['OverallExperienceRatin'].value_counts()\n",
    "\n",
    "# Calculate probability of each rating\n",
    "total_ratings = len(df)\n",
    "probability = rating_counts / total_ratings\n",
    "\n",
    "# Construct probability distribution table\n",
    "probability_table = pd.DataFrame({'Rating': rating_counts.index, \n",
    "                                   'Frequency': rating_counts.values, \n",
    "                                   'Probability': probability})\n",
    "\n",
    "print(probability_table)\n"
   ]
  },
  {
   "cell_type": "markdown",
   "id": "41102c61",
   "metadata": {},
   "source": [
    "# Explanation"
   ]
  },
  {
   "cell_type": "markdown",
   "id": "9df74407",
   "metadata": {},
   "source": [
    "**I calculated the probability of each rating by dividing each count by the total count. Finally, I organized the data into a table format with columns for Rating, Count, and Probability, and formatted the probability column as a percentage for better readability.**"
   ]
  },
  {
   "cell_type": "markdown",
   "id": "94dc9ff1",
   "metadata": {},
   "source": [
    "This Python code segment loads a dataset named 'RelianceRetailVisits_ordered.csv' using the pandas library and calculates the frequency of each rating in the 'OverallExperienceRatin' column. Next, it computes the relative frequencies (probabilities) of each rating by dividing the frequency of each rating by the total number of ratings in the dataset. These calculations are stored in the 'rating_counts' and 'probabilities' variables, respectively.\n",
    "\n",
    "Subsequently, a DataFrame named 'distribution_table' is created to store the rating counts, corresponding probabilities, and rating values. The DataFrame is then sorted by ratings in ascending order to ensure clarity and coherence.\n",
    "\n",
    "Finally, the probability distribution table is exported to an Excel file named 'probability_distribution_table.xlsx' using the to_excel() function. This file contains the probability distribution information, allowing for further analysis and visualization in Excel."
   ]
  },
  {
   "cell_type": "code",
   "execution_count": 10,
   "id": "8c6fa20e",
   "metadata": {},
   "outputs": [],
   "source": [
    "import pandas as pd\n",
    "\n",
    "# Load the sample data\n",
    "df = pd.read_csv('RelianceRetailVisits_ordered.csv')\n",
    "\n",
    "# Count the frequencies of each rating\n",
    "rating_counts = df['OverallExperienceRatin'].value_counts()\n",
    "\n",
    "# Calculate relative frequencies (probabilities)\n",
    "total_ratings = len(df)\n",
    "probabilities = rating_counts / total_ratings\n",
    "\n",
    "# Create a DataFrame for the probability distribution table\n",
    "distribution_table = pd.DataFrame({\n",
    "    'Rating': rating_counts.index,\n",
    "    'Frequency': rating_counts.values,\n",
    "    'Probability': probabilities.values\n",
    "})\n",
    "\n",
    "# Sort the DataFrame by ratings\n",
    "distribution_table.sort_values(by='Rating', inplace=True)\n",
    "\n",
    "# Export the probability distribution table to an Excel file\n",
    "distribution_table.to_excel('probability_distribution_table.xlsx', index=False)\n",
    "\n",
    "\n",
    "#you can view it on excel, file is attached to it\n"
   ]
  },
  {
   "cell_type": "markdown",
   "id": "452eb6aa",
   "metadata": {},
   "source": [
    "# Answer 2B"
   ]
  },
  {
   "cell_type": "markdown",
   "id": "c4eac984",
   "metadata": {},
   "source": [
    "This Python code segment calculates the probability of ratings being at most 3 (inclusive) based on the 'probability_table' DataFrame previously constructed. It filters the rows where the rating is less than or equal to 3, selects the 'Probability' column, and computes the sum of these probabilities.\n",
    "\n",
    "After obtaining the probability of ratings at most 3, the code prints this probability to the console. This analysis provides insight into the likelihood of customers giving ratings equal to or lower than 3, aiding in understanding the distribution of lower ratings in the dataset."
   ]
  },
  {
   "cell_type": "code",
   "execution_count": 11,
   "id": "adcf5fab",
   "metadata": {},
   "outputs": [
    {
     "name": "stdout",
     "output_type": "stream",
     "text": [
      "Probability of rating AT MOST 3: 0.275\n"
     ]
    }
   ],
   "source": [
    "# Calculate probability of rating at most 3\n",
    "probability_at_most_3 = probability_table[probability_table['Rating'] <= 3]['Probability'].sum()\n",
    "print(\"Probability of rating AT MOST 3:\", probability_at_most_3)\n"
   ]
  },
  {
   "cell_type": "markdown",
   "id": "49b9a974",
   "metadata": {},
   "source": [
    "# Explanation"
   ]
  },
  {
   "cell_type": "markdown",
   "id": "276fdfe5",
   "metadata": {},
   "source": [
    "**To find the probability that a randomly selected customer would have a rating of at most 3, I summed up the probabilities of ratings 1, 2, and 3 from the probability distribution table.**"
   ]
  },
  {
   "cell_type": "markdown",
   "id": "7a93365b",
   "metadata": {},
   "source": [
    "# Answer 2c"
   ]
  },
  {
   "cell_type": "markdown",
   "id": "73d2ca8c",
   "metadata": {},
   "source": [
    "In this Python code snippet, a threshold value of 4 is assumed for considering a rating as satisfactory. The code calculates the probability of ratings that are greater than or equal to the threshold using the 'probability_table' DataFrame previously constructed. Specifically, it filters the rows where the rating is greater than or equal to the threshold, selects the 'Probability' column, and computes the sum of these probabilities.\n",
    "\n",
    "After obtaining the probability of satisfactory ratings, the code checks if this probability is greater than or equal to 0.5 (50%). If the probability of satisfactory ratings is equal to or exceeds 50%, it prints \"Customers are generally satisfied with the store services.\" Otherwise, it prints \"Customers are not entirely satisfied with the store services.\" This analysis provides insight into the overall satisfaction level of customers based on the predefined threshold for satisfactory ratings."
   ]
  },
  {
   "cell_type": "code",
   "execution_count": 12,
   "id": "4321aee7",
   "metadata": {},
   "outputs": [
    {
     "name": "stdout",
     "output_type": "stream",
     "text": [
      "Customers are generally satisfied with the store services.\n"
     ]
    }
   ],
   "source": [
    "# Assuming a threshold of 4 for considering a rating as satisfactory\n",
    "threshold = 4\n",
    "satisfied_probability = probability_table[probability_table['Rating'] >= threshold]['Probability'].sum()\n",
    "\n",
    "if satisfied_probability >= 0.5:\n",
    "    print(\"Customers are generally satisfied with the store services.\")\n",
    "else:\n",
    "    print(\"Customers are not entirely satisfied with the store services.\")"
   ]
  },
  {
   "cell_type": "markdown",
   "id": "4fa6966f",
   "metadata": {},
   "source": [
    "# Explanation"
   ]
  },
  {
   "cell_type": "markdown",
   "id": "9562ced3",
   "metadata": {},
   "source": [
    "**Customer satisfaction was assessed based on the created probability distribution table. **\n",
    "\n",
    "Higher probabilities associated with higher ratings indicated higher satisfaction levels, while lower probabilities suggested lower satisfaction levels.\n",
    "\n"
   ]
  },
  {
   "cell_type": "markdown",
   "id": "3d1257cd",
   "metadata": {},
   "source": [
    "# Answer 2D"
   ]
  },
  {
   "cell_type": "code",
   "execution_count": 13,
   "id": "ca433c27",
   "metadata": {},
   "outputs": [
    {
     "name": "stdout",
     "output_type": "stream",
     "text": [
      "Expected Rating: 3.8249999999999997\n"
     ]
    }
   ],
   "source": [
    "# Calculate expected rating\n",
    "expected_rating = (probability_table['Rating'] * probability_table['Probability']).sum()\n",
    "print(\"Expected Rating:\", expected_rating)\n"
   ]
  },
  {
   "cell_type": "markdown",
   "id": "4a6d937d",
   "metadata": {},
   "source": [
    "# Explanation"
   ]
  },
  {
   "cell_type": "markdown",
   "id": "63b3e84e",
   "metadata": {},
   "source": [
    "**To find the expected rating of the store, I multiplied each rating by its probability, then summed up these products. This yielded the weighted average of the ratings, considering their respective probabilities. The expected rating represented the average rating expected from a randomly selected customer, based on the probability distribution of ratings in the sample data.**"
   ]
  },
  {
   "cell_type": "markdown",
   "id": "867b7417",
   "metadata": {},
   "source": [
    "# Answer 2E"
   ]
  },
  {
   "cell_type": "markdown",
   "id": "0dac843e",
   "metadata": {},
   "source": [
    "This Python code segment calculates the mean rating and standard deviation of the customer ratings in the DataFrame 'df'. It computes the mean rating using the mean() function and the standard deviation using the std() function applied to the 'OverallExperienceRatin' column of the DataFrame."
   ]
  },
  {
   "cell_type": "code",
   "execution_count": 14,
   "id": "47e87d8f",
   "metadata": {},
   "outputs": [
    {
     "name": "stdout",
     "output_type": "stream",
     "text": [
      "Mean Rating: 3.83\n",
      "Standard Deviation (STD) of Customer Rating: 1.11\n"
     ]
    }
   ],
   "source": [
    "mean_rating = df['OverallExperienceRatin'].mean()\n",
    "std_rating = df['OverallExperienceRatin'].std()\n",
    "print(\"Mean Rating: {:.2f}\".format(mean_rating))\n",
    "print(\"Standard Deviation (STD) of Customer Rating: {:.2f}\".format(std_rating))"
   ]
  },
  {
   "cell_type": "markdown",
   "id": "42b19e97",
   "metadata": {},
   "source": [
    "# Explanation"
   ]
  },
  {
   "cell_type": "markdown",
   "id": "9d5c7f8f",
   "metadata": {},
   "source": [
    "The standard deviation (STD) of customer ratings indicated the degree of variability or dispersion in the ratings. A higher standard deviation suggested greater variability, indicating that customer opinions were more spread out. In the context of customer satisfaction, a rating considered unusual would typically have deviated significantly from the mean rating."
   ]
  },
  {
   "cell_type": "markdown",
   "id": "c9687a98",
   "metadata": {},
   "source": [
    "# Answer 2F"
   ]
  },
  {
   "cell_type": "markdown",
   "id": "7f788ed3",
   "metadata": {},
   "source": [
    "This Python code segment iterates through each age group specified in the 'desired_order' list and calculates the mean rating and standard deviation of the customer ratings for each age group.\n",
    "\n",
    "Within the loop, it filters the DataFrame 'df' to retrieve the data corresponding to the current age group using the condition 'df['Age Group'] == age_group'. Then, it calculates the mean rating and standard deviation for this subset of data using the mean() and std() functions applied to the 'OverallExperienceRatin' column of the filtered DataFrame 'age_data'"
   ]
  },
  {
   "cell_type": "code",
   "execution_count": 15,
   "id": "db72ab83",
   "metadata": {},
   "outputs": [
    {
     "name": "stdout",
     "output_type": "stream",
     "text": [
      "Age Group: 26  To  35 years, Mean Rating: 4.00, Standard Deviation (STD): 1.18\n",
      "Age Group: 16  To  25 years, Mean Rating: 4.00, Standard Deviation (STD): 1.03\n",
      "Age Group: 36  To  45 years, Mean Rating: 4.33, Standard Deviation (STD): 0.52\n",
      "Age Group: 46  To  60 years, Mean Rating: 2.71, Standard Deviation (STD): 0.95\n"
     ]
    }
   ],
   "source": [
    "# Let's print the mean and standard deviation of ratings for each age group:\n",
    "for age_group in desired_order:\n",
    "    age_data = df[df['Age Group'] == age_group]\n",
    "    mean_rating_age = age_data['OverallExperienceRatin'].mean()\n",
    "    std_rating_age = age_data['OverallExperienceRatin'].std()\n",
    "    print(\"Age Group: {}, Mean Rating: {:.2f}, Standard Deviation (STD): {:.2f}\".format(age_group, mean_rating_age, std_rating_age))"
   ]
  },
  {
   "cell_type": "markdown",
   "id": "bxWs676vPuB5",
   "metadata": {
    "id": "bxWs676vPuB5"
   },
   "source": [
    "# C. Statistical Intuition in SAT Exams\n"
   ]
  },
  {
   "cell_type": "markdown",
   "id": "1eba7ec0",
   "metadata": {
    "id": "1eba7ec0"
   },
   "source": [
    "\n",
    "# **Question 3:**\n",
    "\n",
    "Imagine you are working for a prestigious university in the UAE. It is your job to decide which students are admitted to the university. To help you do this, you analyze the high school (SAT) scores of potential students. These scores help you understand their academic readiness and potential for success at the university.\n",
    "\n",
    "You have just received the scores of applicants who would like to join the university in September 2024. These scores follow a **normal distribution**."
   ]
  },
  {
   "cell_type": "markdown",
   "id": "FRRhnhzbp1tW",
   "metadata": {
    "id": "FRRhnhzbp1tW"
   },
   "source": [
    "**To Begin**.  \n",
    "\n",
    "Run the code below. It will generate a dataset with the students scores. It will also calculate the **mean (μ)** and **standard deviation (σ)** of these scores. This dataset will be saved as a CSV file called **\"Scores.csv\"**. Again, you need to submit this file in the same zip folder as your other files."
   ]
  },
  {
   "cell_type": "code",
   "execution_count": 16,
   "id": "jQI-U8Gw8d8g",
   "metadata": {
    "id": "jQI-U8Gw8d8g"
   },
   "outputs": [
    {
     "name": "stdout",
     "output_type": "stream",
     "text": [
      "Mean score: 882.872\n",
      "Standard deviation: 264.6470397938955\n"
     ]
    },
    {
     "data": {
      "text/html": [
       "<div>\n",
       "<style scoped>\n",
       "    .dataframe tbody tr th:only-of-type {\n",
       "        vertical-align: middle;\n",
       "    }\n",
       "\n",
       "    .dataframe tbody tr th {\n",
       "        vertical-align: top;\n",
       "    }\n",
       "\n",
       "    .dataframe thead th {\n",
       "        text-align: right;\n",
       "    }\n",
       "</style>\n",
       "<table border=\"1\" class=\"dataframe\">\n",
       "  <thead>\n",
       "    <tr style=\"text-align: right;\">\n",
       "      <th></th>\n",
       "      <th>Unnamed: 0</th>\n",
       "      <th>Scores</th>\n",
       "    </tr>\n",
       "  </thead>\n",
       "  <tbody>\n",
       "    <tr>\n",
       "      <th>0</th>\n",
       "      <td>0</td>\n",
       "      <td>926.0</td>\n",
       "    </tr>\n",
       "    <tr>\n",
       "      <th>1</th>\n",
       "      <td>1</td>\n",
       "      <td>731.0</td>\n",
       "    </tr>\n",
       "    <tr>\n",
       "      <th>2</th>\n",
       "      <td>2</td>\n",
       "      <td>1424.0</td>\n",
       "    </tr>\n",
       "    <tr>\n",
       "      <th>3</th>\n",
       "      <td>3</td>\n",
       "      <td>766.0</td>\n",
       "    </tr>\n",
       "    <tr>\n",
       "      <th>4</th>\n",
       "      <td>4</td>\n",
       "      <td>1102.0</td>\n",
       "    </tr>\n",
       "  </tbody>\n",
       "</table>\n",
       "</div>"
      ],
      "text/plain": [
       "   Unnamed: 0  Scores\n",
       "0           0   926.0\n",
       "1           1   731.0\n",
       "2           2  1424.0\n",
       "3           3   766.0\n",
       "4           4  1102.0"
      ]
     },
     "execution_count": 16,
     "metadata": {},
     "output_type": "execute_result"
    }
   ],
   "source": [
    "# Load the following libraries so that they can be applied in the subsequent code blocks\n",
    "\n",
    "\n",
    "import pandas as pd\n",
    "import numpy as np\n",
    "import random\n",
    "\n",
    "try:\n",
    "    SATScores = pd.read_csv('Scores.csv')\n",
    "except FileNotFoundError:\n",
    "    num_samples = 1000\n",
    "    mean_score = random.randint(800, 1200)\n",
    "    std_deviation = random.randint(100, 300)\n",
    "    scores = np.random.normal(mean_score, std_deviation, num_samples)\n",
    "    scores = np.round(scores, 0)\n",
    "    SATScores = pd.DataFrame({'Scores': scores})\n",
    "    SATScores.to_csv('Scores.csv')\n",
    "\n",
    "# Calculate mean and standard deviation\n",
    "mean_score = SATScores['Scores'].mean()\n",
    "std_deviation = SATScores['Scores'].std()\n",
    "\n",
    "# Print mean score and standard deviation\n",
    "print(\"Mean score:\", mean_score)\n",
    "print(\"Standard deviation:\", std_deviation)\n",
    "\n",
    "# Display the dataset\n",
    "SATScores.head()\n"
   ]
  },
  {
   "cell_type": "markdown",
   "id": "-NeNJdYkgBID",
   "metadata": {
    "id": "-NeNJdYkgBID"
   },
   "source": [
    "Now, use the Scores dataset and the statistics provided by the code, to answer the following questions.\n",
    "\n",
    "**IMPORTANT:**\n",
    "*   *Make sure to support your answers by explaining and showing how you came to your conclusions.*\n",
    "*   *If you use online calculators then please include screenshots of those calculators as part of your work.*\n",
    "*   *Please **do not** use code to solve these questions. The questions are designed to test your understanding.*\n",
    "\n",
    "**Question 3a**. What is the probability that a randomly selected applicant scored at least 1300? Show your work.\n",
    "\n",
    "**Question 3b**. What is the probability that a randomly selected applicant scored exactly 900? Show your work.\n",
    "\n",
    "**Question 3c**. What percentage of applicants scored between 900 and 1000? Show your work.\n",
    "\n",
    "**Question 3d**. Calculate the 40th percentile of scores among the applicants. What does this value represent in the context of the admissions process? Show your work.\n",
    "\n",
    "**Question 3e**. Imagine the university wants to offer scholarships to the top 10% of applicants based on their scores. What minimum score would an applicant need to qualify for a scholarship? Show your work.\n",
    "\n",
    "**Question 3f**. Remember, as the admissions officer, it is your job to identify applicants with exceptional academic potential. Would you automatically recommend that applicants with SAT scores above 1400 to be admitted into the university? Or do you think additional criteria should also be considered? Explain your reasoning.\n"
   ]
  },
  {
   "cell_type": "markdown",
   "id": "1d9777b3",
   "metadata": {
    "id": "1d9777b3"
   },
   "source": [
    "**Answer:** Add more \"markdown\" text and code cells below as needed."
   ]
  },
  {
   "cell_type": "markdown",
   "id": "68be93a7",
   "metadata": {
    "id": "7832e424"
   },
   "source": [
    "# Answer 3a"
   ]
  },
  {
   "cell_type": "markdown",
   "id": "c737b97f",
   "metadata": {},
   "source": [
    "This Python code snippet utilizes the norm function from the scipy.stats module to perform statistical calculations. Initially, it calculates the z-score for a value of 1300 based on the mean score and standard deviation of a distribution, which are assumed to be previously defined variables. The z-score represents how many standard deviations away from the mean the value of 1300 is. Next, using the cumulative distribution function (CDF), the code computes the probability of scoring at least 1300 in the given distribution. By subtracting this probability from 1, it obtains the probability of scoring at least 1300 or higher. Finally, the code prints this calculated probability to the console. This process allows for assessing the likelihood of achieving a certain score or higher in a standardized test or similar scenario based on the provided distribution parameters."
   ]
  },
  {
   "cell_type": "code",
   "execution_count": 17,
   "id": "87ddb842",
   "metadata": {},
   "outputs": [
    {
     "name": "stdout",
     "output_type": "stream",
     "text": [
      "Probability of scoring at least 1300: 0.057493630619942615\n"
     ]
    }
   ],
   "source": [
    "from scipy.stats import norm\n",
    "\n",
    "# Calculate the z-score for 1300\n",
    "z_score_1300 = (1300 - mean_score) / std_deviation\n",
    "\n",
    "# Calculate the probability using the cumulative distribution function (CDF)\n",
    "probability_at_least_1300 = 1 - norm.cdf(z_score_1300)\n",
    "\n",
    "print(\"Probability of scoring at least 1300:\", probability_at_least_1300)\n"
   ]
  },
  {
   "cell_type": "markdown",
   "id": "d3b1c0bd",
   "metadata": {},
   "source": [
    "# Answer 3b"
   ]
  },
  {
   "cell_type": "markdown",
   "id": "5e4e191e",
   "metadata": {},
   "source": [
    "In this Python code segment, the z-score for a value of 900 is calculated using the mean score and standard deviation of a distribution, assuming these parameters are previously defined. The z-score indicates how many standard deviations away from the mean the value of 900 is. Following this, the code calculates the probability of scoring exactly 900 by utilizing the probability density function (PDF) of the normal distribution. Since the probability of obtaining an exact value in a continuous distribution is infinitesimally small, the probability of scoring exactly 900 is very close to zero. Nevertheless, the code computes this probability using the PDF. Finally, the calculated probability of scoring exactly 900 is printed to the console. This process allows for assessing the likelihood of obtaining specific scores in a continuous distribution, even though the probability of exact values is negligible."
   ]
  },
  {
   "cell_type": "code",
   "execution_count": 18,
   "id": "4b331aa0",
   "metadata": {},
   "outputs": [
    {
     "name": "stdout",
     "output_type": "stream",
     "text": [
      "Probability of scoring exactly 900: 0.398107630022879\n"
     ]
    }
   ],
   "source": [
    "# Calculate the z-score for 900\n",
    "z_score_900 = (900 - mean_score) / std_deviation\n",
    "\n",
    "# Calculate the probability of scoring exactly 900 (which is very close to zero in a continuous distribution)\n",
    "probability_exact_900 = norm.pdf(z_score_900)\n",
    "\n",
    "print(\"Probability of scoring exactly 900:\", probability_exact_900)\n"
   ]
  },
  {
   "cell_type": "markdown",
   "id": "8e09ea16",
   "metadata": {},
   "source": [
    "# Answer 3c"
   ]
  },
  {
   "cell_type": "markdown",
   "id": "2ffc80c2",
   "metadata": {},
   "source": [
    "In this Python code snippet, the z-scores for the values 900 and 1000 are calculated based on the mean score and standard deviation of a distribution, assuming these parameters are previously defined. These z-scores represent how many standard deviations away from the mean each value is. Next, the code calculates the probability of scoring between 900 and 1000 by subtracting the cumulative distribution function (CDF) value at the z-score of 900 from the CDF value at the z-score of 1000. This difference in CDF values provides the probability of scoring between these two values in the distribution. To present this probability as a percentage, the code multiplies the calculated probability by 100. Finally, the percentage of applicants scoring between 900 and 1000 is printed to the console. This process enables the assessment of the proportion of scores falling within a specific range in the distribution."
   ]
  },
  {
   "cell_type": "code",
   "execution_count": 19,
   "id": "fc8fa3da",
   "metadata": {},
   "outputs": [
    {
     "name": "stdout",
     "output_type": "stream",
     "text": [
      "Percentage of applicants scoring between 900 and 1000: 14.516432822733815\n"
     ]
    }
   ],
   "source": [
    "# Calculate the z-scores for 900 and 1000\n",
    "z_score_900 = (900 - mean_score) / std_deviation\n",
    "z_score_1000 = (1000 - mean_score) / std_deviation\n",
    "\n",
    "# Calculate the probability of scoring between 900 and 1000 using the difference of cumulative distribution functions (CDF)\n",
    "probability_between_900_1000 = norm.cdf(z_score_1000) - norm.cdf(z_score_900)\n",
    "\n",
    "# Convert probability to percentage\n",
    "percentage_between_900_1000 = probability_between_900_1000 * 100\n",
    "\n",
    "print(\"Percentage of applicants scoring between 900 and 1000:\", percentage_between_900_1000)\n"
   ]
  },
  {
   "cell_type": "markdown",
   "id": "ddd07aff",
   "metadata": {
    "id": "pIMPP8Re8dWz"
   },
   "source": [
    "# Answer 3d"
   ]
  },
  {
   "cell_type": "markdown",
   "id": "baafd736",
   "metadata": {},
   "source": [
    "In this Python code snippet, the score corresponding to the 40th percentile is calculated using the percent point function (PPF) of the normal distribution, accessed through the norm.ppf() function from the scipy.stats module. The PPF provides the value at which a given percentile occurs in a normal distribution with the specified mean and standard deviation. Here, the 40th percentile is calculated with a mean score and standard deviation assumed to be previously defined variables. The resulting score corresponding to the 40th percentile is then printed to the console. This process facilitates the determination of scores associated with specific percentiles in a distribution, aiding in understanding the distribution's characteristics and performance assessment."
   ]
  },
  {
   "cell_type": "code",
   "execution_count": 20,
   "id": "a8170330",
   "metadata": {},
   "outputs": [
    {
     "name": "stdout",
     "output_type": "stream",
     "text": [
      "40th percentile score: 815.8244391147518\n"
     ]
    }
   ],
   "source": [
    "# Calculate the score corresponding to the 40th percentile using the percent point function (PPF)\n",
    "percentile_40th = norm.ppf(0.4, loc=mean_score, scale=std_deviation)\n",
    "\n",
    "print(\"40th percentile score:\", percentile_40th)\n"
   ]
  },
  {
   "cell_type": "markdown",
   "id": "ede54df3",
   "metadata": {},
   "source": [
    "# Answer 3e"
   ]
  },
  {
   "cell_type": "markdown",
   "id": "adae819f",
   "metadata": {},
   "source": [
    "In this Python code snippet, the score corresponding to the 90th percentile, which represents the top 10% of scores, is calculated using the percent point function (PPF) of the normal distribution. The norm.ppf() function from the scipy.stats module is employed for this purpose. By specifying the desired percentile (0.9 for the 90th percentile) along with the mean score and standard deviation of the distribution, the function determines the score value at which the top 10% of scores fall. The resulting score, indicating the minimum score required for scholarship qualification, is then printed to the console. This calculation aids in setting criteria for scholarship eligibility based on percentile ranks in a distribution, facilitating decision-making processes related to rewards or recognition."
   ]
  },
  {
   "cell_type": "code",
   "execution_count": 21,
   "id": "68b06438",
   "metadata": {},
   "outputs": [
    {
     "name": "stdout",
     "output_type": "stream",
     "text": [
      "Minimum score for scholarship qualification: 1222.0308281646107\n"
     ]
    }
   ],
   "source": [
    "# Calculate the score corresponding to the 90th percentile (top 10%) using the percent point function (PPF)\n",
    "score_for_scholarship = norm.ppf(0.9, loc=mean_score, scale=std_deviation)\n",
    "\n",
    "print(\"Minimum score for scholarship qualification:\", score_for_scholarship)\n"
   ]
  },
  {
   "cell_type": "markdown",
   "id": "6c19427a",
   "metadata": {},
   "source": [
    "Answer:\n",
    "While SAT scores above 1400 may indicate strong academic potential, admissions decisions should not rely solely on standardized test scores.\n",
    "Additional criteria such as extracurricular activities, letters of recommendation, personal essays, and interviews should also be considered.\n",
    "These factors provide a more holistic view of a student's abilities, interests, and potential contribution to the university community.\n",
    "Furthermore, standardized tests like the SAT may not fully capture a student's capabilities or readiness for college.\n",
    "Therefore, it's important to evaluate applicants based on multiple criteria to ensure a fair and comprehensive admissions process."
   ]
  },
  {
   "cell_type": "markdown",
   "id": "9e52954a",
   "metadata": {},
   "source": [
    "# Answer 3f"
   ]
  },
  {
   "cell_type": "markdown",
   "id": "d6ce8121",
   "metadata": {},
   "source": [
    "his Python code segment computes the z-score for a score of 1400 using the mean score and standard deviation of a distribution, assumed to be previously defined variables. The z-score indicates how many standard deviations away from the mean the value of 1400 is. Subsequently, the code calculates the probability of scoring above 1400 by subtracting the cumulative distribution function (CDF) value at the z-score of 1400 from 1. This difference in CDF values provides the probability of scoring higher than 1400 in the distribution. Finally, the calculated probability of scoring above 1400 is printed to the console. This process allows for the assessment of the likelihood of achieving scores beyond a specific threshold in a distribution."
   ]
  },
  {
   "cell_type": "code",
   "execution_count": 22,
   "id": "aa11c29e",
   "metadata": {},
   "outputs": [
    {
     "name": "stdout",
     "output_type": "stream",
     "text": [
      "Probability of scoring above 1400: 0.025348891720286537\n"
     ]
    }
   ],
   "source": [
    "# Calculate the z-score for 1400\n",
    "z_score_1400 = (1400 - mean_score) / std_deviation\n",
    "\n",
    "# Calculate the probability of scoring above 1400\n",
    "probability_above_1400 = 1 - norm.cdf(z_score_1400)\n",
    "\n",
    "print(\"Probability of scoring above 1400:\", probability_above_1400)\n"
   ]
  },
  {
   "cell_type": "markdown",
   "id": "BGuCvY42pedt",
   "metadata": {
    "id": "BGuCvY42pedt"
   },
   "source": [
    "## D. Statistical Intuition in Public Health"
   ]
  },
  {
   "cell_type": "markdown",
   "id": "ec4d1c16",
   "metadata": {
    "id": "ec4d1c16"
   },
   "source": [
    "# **Question 4:**\n",
    "\n",
    "Now imagine that it is year 2034 and you are working as a public health researcher in the UAE. You are working on a project to assess vaccination coverage for a new global pandemic. The UAE government has implemented a widespread vaccination campaign to combat the spread of the virus and achieve herd immunity. You want to determine the proportion of individuals who have received the new vaccine among a sample of 100 residents in different parts of the country."
   ]
  },
  {
   "cell_type": "markdown",
   "id": "JZblbGomp62I",
   "metadata": {
    "id": "JZblbGomp62I"
   },
   "source": [
    "**To Begin**.  \n",
    "\n",
    "Run the code below. It will provide you with a random sample of 100 residents. It will save this data to a CSV file called **\"Vaccinated.csv\"**. Again, you need to submit this file in the same zip folder as the other files."
   ]
  },
  {
   "cell_type": "code",
   "execution_count": 23,
   "id": "jNYbD-sBGy_A",
   "metadata": {
    "id": "jNYbD-sBGy_A"
   },
   "outputs": [
    {
     "data": {
      "text/html": [
       "<div>\n",
       "<style scoped>\n",
       "    .dataframe tbody tr th:only-of-type {\n",
       "        vertical-align: middle;\n",
       "    }\n",
       "\n",
       "    .dataframe tbody tr th {\n",
       "        vertical-align: top;\n",
       "    }\n",
       "\n",
       "    .dataframe thead th {\n",
       "        text-align: right;\n",
       "    }\n",
       "</style>\n",
       "<table border=\"1\" class=\"dataframe\">\n",
       "  <thead>\n",
       "    <tr style=\"text-align: right;\">\n",
       "      <th></th>\n",
       "      <th>Unnamed: 0</th>\n",
       "      <th>Vaccinated</th>\n",
       "    </tr>\n",
       "  </thead>\n",
       "  <tbody>\n",
       "    <tr>\n",
       "      <th>0</th>\n",
       "      <td>0</td>\n",
       "      <td>No</td>\n",
       "    </tr>\n",
       "    <tr>\n",
       "      <th>1</th>\n",
       "      <td>1</td>\n",
       "      <td>Yes</td>\n",
       "    </tr>\n",
       "    <tr>\n",
       "      <th>2</th>\n",
       "      <td>2</td>\n",
       "      <td>No</td>\n",
       "    </tr>\n",
       "    <tr>\n",
       "      <th>3</th>\n",
       "      <td>3</td>\n",
       "      <td>No</td>\n",
       "    </tr>\n",
       "    <tr>\n",
       "      <th>4</th>\n",
       "      <td>4</td>\n",
       "      <td>No</td>\n",
       "    </tr>\n",
       "  </tbody>\n",
       "</table>\n",
       "</div>"
      ],
      "text/plain": [
       "   Unnamed: 0 Vaccinated\n",
       "0           0         No\n",
       "1           1        Yes\n",
       "2           2         No\n",
       "3           3         No\n",
       "4           4         No"
      ]
     },
     "execution_count": 23,
     "metadata": {},
     "output_type": "execute_result"
    }
   ],
   "source": [
    "# Load the following libraries so that they can be applied in the subsequent code blocks\n",
    "\n",
    "import numpy as np\n",
    "import pandas as pd\n",
    "import matplotlib.pyplot as plt\n",
    "import random\n",
    "import scipy.stats as stats\n",
    "\n",
    "# Run this code. It will generate data and save it to a CSV file called \"Vaccinated.csv\". You need to submit it in the same zip folder as your other files.\n",
    "\n",
    "try:\n",
    "    Vaccinated = pd.read_csv('Vaccinated.csv')\n",
    "except FileNotFoundError:\n",
    "    num_samples = 100\n",
    "    vaccinated = np.random.choice([\"Yes\", \"No\"], size=num_samples)\n",
    "    Vaccinated = pd.DataFrame({'Vaccinated': vaccinated})\n",
    "    Vaccinated.to_csv('Vaccinated.csv')\n",
    "\n",
    "# Have a look at Vaccinated dataset.\n",
    "Vaccinated.head()"
   ]
  },
  {
   "cell_type": "markdown",
   "id": "6b9e6478",
   "metadata": {
    "id": "6b9e6478"
   },
   "source": [
    "**Now**, use the dataset to answer the following questions.\n",
    "\n",
    "IMPORTANT:\n",
    "*   Make sure to support your answers by explaining and showing how you came to your conclusions.\n",
    "*   Please do not use code to solve these questions. The questions are designed to test your understanding.\n",
    "\n",
    "**Question 4a**. What is the proportion of people who have received the vaccine (based on the dataset you have)?\n",
    "\n",
    "**Question 4b**. Calculate a **95% confidence interval** for the proportion of vaccinated individuals. What does this interval tell us about the likely range of vaccination coverage in the entire population? Show your work.\n",
    "\n",
    "**Question 4c**. What sample size would be required to estimate the proportion of vaccinated individuals in the country with a **95% confidence level** and a **margin of error of 0.02**? Show your work.\n",
    "\n",
    "**Question 4d**. If you wanted to increase the precision of your estimate, what strategies could you employ to achieve this goal? Explain your reasoning.\n",
    "\n",
    "\n",
    "**Question 4e**. Analyze the effectiveness of the current vaccination campaign using the proportion of vaccinated individuals and the confidence interval. What recommendations would you make for future campaigns?"
   ]
  },
  {
   "cell_type": "markdown",
   "id": "f8955587",
   "metadata": {
    "id": "f8955587"
   },
   "source": [
    "**Answer:** Add more \"markdown\" text and code cells below as needed."
   ]
  },
  {
   "cell_type": "markdown",
   "id": "ed49eb9c",
   "metadata": {
    "id": "Xy9xYOWSs-sX"
   },
   "source": [
    "# Answer 4a"
   ]
  },
  {
   "cell_type": "markdown",
   "id": "2eefc35b",
   "metadata": {},
   "source": [
    "This Python code utilizes the pandas library to analyze a dataset stored in a CSV file named 'Vaccinated.csv'. Initially, it loads the dataset into a pandas DataFrame named 'Vaccinated'. Next, it computes the proportion of vaccinated individuals by counting the occurrences of 'Yes' in the 'Vaccinated' column and dividing it by the total number of entries in that column. Finally, it prints the calculated proportion of vaccinated individuals to the console. Overall, this code aims to provide insights into the vaccination status within the dataset."
   ]
  },
  {
   "cell_type": "code",
   "execution_count": 24,
   "id": "T4htkSMWsekN",
   "metadata": {
    "id": "T4htkSMWsekN"
   },
   "outputs": [
    {
     "name": "stdout",
     "output_type": "stream",
     "text": [
      "Proportion of vaccinated individuals: 0.44\n"
     ]
    }
   ],
   "source": [
    "import pandas as pd\n",
    "\n",
    "# Load the dataset\n",
    "Vaccinated = pd.read_csv('Vaccinated.csv')\n",
    "\n",
    "# Calculate the proportion of vaccinated individuals\n",
    "proportion_vaccinated = Vaccinated['Vaccinated'].value_counts(normalize=True)['Yes']\n",
    "\n",
    "print(\"Proportion of vaccinated individuals:\", proportion_vaccinated)\n"
   ]
  },
  {
   "cell_type": "markdown",
   "id": "71973263",
   "metadata": {},
   "source": [
    "# Answer 4b"
   ]
  },
  {
   "cell_type": "markdown",
   "id": "bd499981",
   "metadata": {},
   "source": [
    "This Python code expands upon the previous analysis by incorporating statistical inference using the statsmodels library. After importing numpy and statsmodels.stats.proportion modules, the code proceeds to count the number of vaccinated individuals and the total sample size from the 'Vaccinated' DataFrame. Utilizing the proportion_confint() function, it calculates a 95% confidence interval for the proportion of vaccinated individuals in the dataset. This interval provides a range of values within which we can be 95% confident that the true proportion of vaccinated individuals lies. Finally, the code prints the calculated confidence interval to the console. Overall, this code enhances the analysis by incorporating statistical uncertainty estimation.\n"
   ]
  },
  {
   "cell_type": "code",
   "execution_count": 25,
   "id": "84ea6758",
   "metadata": {},
   "outputs": [
    {
     "name": "stdout",
     "output_type": "stream",
     "text": [
      "95% Confidence Interval for the proportion of vaccinated individuals: (0.34270994637584823, 0.5372900536241518)\n"
     ]
    }
   ],
   "source": [
    "import numpy as np\n",
    "import statsmodels.stats.proportion as proportion\n",
    "\n",
    "# Count the number of vaccinated individuals\n",
    "num_vaccinated = Vaccinated['Vaccinated'].value_counts()['Yes']\n",
    "\n",
    "# Total sample size\n",
    "total_sample_size = len(Vaccinated)\n",
    "\n",
    "# Calculate the confidence interval\n",
    "ci = proportion.proportion_confint(num_vaccinated, total_sample_size, alpha=0.05)\n",
    "\n",
    "print(\"95% Confidence Interval for the proportion of vaccinated individuals:\", ci)\n"
   ]
  },
  {
   "cell_type": "markdown",
   "id": "b057dfc3",
   "metadata": {},
   "source": [
    "# Answer 4c"
   ]
  },
  {
   "cell_type": "markdown",
   "id": "162a300a",
   "metadata": {},
   "source": [
    "In this Python code snippet, the margin of error and confidence level are defined as 0.02 and 0.95, respectively. By importing the scipy.stats module as stats, the critical value (Z) for a two-tailed test is calculated using the norm.ppf() function. This value is essential for determining the required sample size. The required sample size is computed based on the critical value, margin of error, and the proportion of vaccinated individuals previously calculated. This calculation aims to ensure that the sample size is sufficient to achieve the desired confidence level with the specified margin of error. Finally, the code prints the resulting required sample size to the console after rounding it to the nearest integer. Overall, this code segment assists in determining the sample size needed for future studies or surveys regarding vaccination status with a desired level of precision and confidence."
   ]
  },
  {
   "cell_type": "code",
   "execution_count": 26,
   "id": "131eb409",
   "metadata": {},
   "outputs": [
    {
     "name": "stdout",
     "output_type": "stream",
     "text": [
      "Required sample size: 2366\n"
     ]
    }
   ],
   "source": [
    "# Set the margin of error and confidence level\n",
    "margin_of_error = 0.02\n",
    "confidence_level = 0.95\n",
    "\n",
    "# Calculate the critical value (Z) for a two-tailed test\n",
    "import scipy.stats as stats\n",
    "Z = stats.norm.ppf((1 + confidence_level) / 2)\n",
    "\n",
    "\n",
    "required_sample_size = ((Z**2) * (proportion_vaccinated * (1 - proportion_vaccinated))) / (margin_of_error**2)\n",
    "\n",
    "# Display the result\n",
    "print(\"Required sample size:\", int(required_sample_size))  # Rounded to the nearest integer\n"
   ]
  },
  {
   "cell_type": "markdown",
   "id": "31aadbee",
   "metadata": {},
   "source": [
    "# Answer 4d"
   ]
  },
  {
   "cell_type": "markdown",
   "id": "5b75c407",
   "metadata": {},
   "source": [
    "Strategies for enhancing precision:\n",
    "\n",
    "Augment the sample size: Enlarging the sample size diminishes the margin of error, thus enhancing precision.\n",
    "Ensure random sampling: Guarantee that the sampling process represents the entire population to mitigate bias.\n",
    "Minimize variability: Reduce population variability or stratify the sample to lessen variability.\n",
    "Employ stratified sampling: Segment the population into similar groups and sample proportionately from each group.\n",
    "Enhance measurement accuracy: Employ dependable and accurate methods for data collection and measurement.\n"
   ]
  },
  {
   "cell_type": "markdown",
   "id": "ca0ac7d2",
   "metadata": {},
   "source": [
    "# Answer 4e"
   ]
  },
  {
   "cell_type": "markdown",
   "id": "cf70f582",
   "metadata": {},
   "source": [
    "Analysis:\n",
    "Evaluating the effectiveness of the ongoing vaccination campaign involves examining the proportion of vaccinated individuals and the associated confidence interval. This allows for an understanding of the campaign's vaccination coverage and the level of uncertainty surrounding this estimate. A narrower confidence interval indicates greater precision and confidence in the vaccination coverage estimate. Utilizing these metrics enables the assessment of campaign effectiveness and the identification of areas for potential improvement.\n",
    "\n",
    "Recommendations:\n",
    "1. Regularly monitor vaccination coverage to gauge progress and identify any existing gaps or discrepancies.\n",
    "2. Implement targeted educational initiatives and outreach programs aimed at overcoming barriers to vaccination.\n",
    "3. Improve access to vaccination services by establishing vaccination centers in easily accessible locations.\n",
    "4. Foster stronger partnerships with community leaders and healthcare providers to bolster vaccine acceptance.\n",
    "5. Continuously assess and refine vaccination strategies based on evolving trends and community feedback."
   ]
  },
  {
   "cell_type": "code",
   "execution_count": null,
   "id": "2ca40b8c",
   "metadata": {},
   "outputs": [],
   "source": []
  },
  {
   "cell_type": "code",
   "execution_count": null,
   "id": "ecd2b7ec",
   "metadata": {},
   "outputs": [],
   "source": []
  }
 ],
 "metadata": {
  "colab": {
   "provenance": []
  },
  "kernelspec": {
   "display_name": "Python 3 (ipykernel)",
   "language": "python",
   "name": "python3"
  },
  "language_info": {
   "codemirror_mode": {
    "name": "ipython",
    "version": 3
   },
   "file_extension": ".py",
   "mimetype": "text/x-python",
   "name": "python",
   "nbconvert_exporter": "python",
   "pygments_lexer": "ipython3",
   "version": "3.11.5"
  }
 },
 "nbformat": 4,
 "nbformat_minor": 5
}
